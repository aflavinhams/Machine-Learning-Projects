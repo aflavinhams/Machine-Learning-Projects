{
  "nbformat": 4,
  "nbformat_minor": 0,
  "metadata": {
    "colab": {
      "provenance": []
    },
    "kernelspec": {
      "name": "python3",
      "display_name": "Python 3"
    },
    "language_info": {
      "name": "python"
    }
  },
  "cells": [
    {
      "cell_type": "markdown",
      "source": [
        "a) load air quality index dataset"
      ],
      "metadata": {
        "id": "kuHsjX3A6Afx"
      }
    },
    {
      "cell_type": "code",
      "execution_count": 1,
      "metadata": {
        "colab": {
          "base_uri": "https://localhost:8080/"
        },
        "id": "PKZKTlfg5gv0",
        "outputId": "c5264331-6d04-4b5d-c659-47a945fd4e3d"
      },
      "outputs": [
        {
          "output_type": "stream",
          "name": "stdout",
          "text": [
            "Collecting ucimlrepo\n",
            "  Downloading ucimlrepo-0.0.7-py3-none-any.whl.metadata (5.5 kB)\n",
            "Requirement already satisfied: pandas>=1.0.0 in /usr/local/lib/python3.11/dist-packages (from ucimlrepo) (2.2.2)\n",
            "Requirement already satisfied: certifi>=2020.12.5 in /usr/local/lib/python3.11/dist-packages (from ucimlrepo) (2025.1.31)\n",
            "Requirement already satisfied: numpy>=1.23.2 in /usr/local/lib/python3.11/dist-packages (from pandas>=1.0.0->ucimlrepo) (2.0.2)\n",
            "Requirement already satisfied: python-dateutil>=2.8.2 in /usr/local/lib/python3.11/dist-packages (from pandas>=1.0.0->ucimlrepo) (2.8.2)\n",
            "Requirement already satisfied: pytz>=2020.1 in /usr/local/lib/python3.11/dist-packages (from pandas>=1.0.0->ucimlrepo) (2025.2)\n",
            "Requirement already satisfied: tzdata>=2022.7 in /usr/local/lib/python3.11/dist-packages (from pandas>=1.0.0->ucimlrepo) (2025.2)\n",
            "Requirement already satisfied: six>=1.5 in /usr/local/lib/python3.11/dist-packages (from python-dateutil>=2.8.2->pandas>=1.0.0->ucimlrepo) (1.17.0)\n",
            "Downloading ucimlrepo-0.0.7-py3-none-any.whl (8.0 kB)\n",
            "Installing collected packages: ucimlrepo\n",
            "Successfully installed ucimlrepo-0.0.7\n"
          ]
        }
      ],
      "source": [
        "!pip install ucimlrepo"
      ]
    },
    {
      "cell_type": "code",
      "source": [
        "from posixpath import pardir\n",
        "from ucimlrepo import fetch_ucirepo\n",
        "import pandas as pd\n",
        "\n",
        "air_quality = fetch_ucirepo(id=360)\n",
        "df = pd.DataFrame(data=air_quality.data.features)\n",
        "df.head()\n",
        "\n",
        "print(air_quality)"
      ],
      "metadata": {
        "colab": {
          "base_uri": "https://localhost:8080/"
        },
        "id": "VR78g3h57YUe",
        "outputId": "08311379-9e29-4796-dba3-afed5db3ff96"
      },
      "execution_count": 25,
      "outputs": [
        {
          "output_type": "stream",
          "name": "stdout",
          "text": [
            "{'data': {'ids': None, 'features':            Date      Time  CO(GT)  PT08.S1(CO)  ...  PT08.S5(O3)     T    RH      AH\n",
            "0     3/10/2004  18:00:00     2.6         1360  ...         1268  13.6  48.9  0.7578\n",
            "1     3/10/2004  19:00:00     2.0         1292  ...          972  13.3  47.7  0.7255\n",
            "2     3/10/2004  20:00:00     2.2         1402  ...         1074  11.9  54.0  0.7502\n",
            "3     3/10/2004  21:00:00     2.2         1376  ...         1203  11.0  60.0  0.7867\n",
            "4     3/10/2004  22:00:00     1.6         1272  ...         1110  11.2  59.6  0.7888\n",
            "...         ...       ...     ...          ...  ...          ...   ...   ...     ...\n",
            "9352   4/4/2005  10:00:00     3.1         1314  ...         1729  21.9  29.3  0.7568\n",
            "9353   4/4/2005  11:00:00     2.4         1163  ...         1269  24.3  23.7  0.7119\n",
            "9354   4/4/2005  12:00:00     2.4         1142  ...         1092  26.9  18.3  0.6406\n",
            "9355   4/4/2005  13:00:00     2.1         1003  ...          770  28.3  13.5  0.5139\n",
            "9356   4/4/2005  14:00:00     2.2         1071  ...          816  28.5  13.1  0.5028\n",
            "\n",
            "[9357 rows x 15 columns], 'targets': None, 'original':            Date      Time  CO(GT)  PT08.S1(CO)  ...  PT08.S5(O3)     T    RH      AH\n",
            "0     3/10/2004  18:00:00     2.6         1360  ...         1268  13.6  48.9  0.7578\n",
            "1     3/10/2004  19:00:00     2.0         1292  ...          972  13.3  47.7  0.7255\n",
            "2     3/10/2004  20:00:00     2.2         1402  ...         1074  11.9  54.0  0.7502\n",
            "3     3/10/2004  21:00:00     2.2         1376  ...         1203  11.0  60.0  0.7867\n",
            "4     3/10/2004  22:00:00     1.6         1272  ...         1110  11.2  59.6  0.7888\n",
            "...         ...       ...     ...          ...  ...          ...   ...   ...     ...\n",
            "9352   4/4/2005  10:00:00     3.1         1314  ...         1729  21.9  29.3  0.7568\n",
            "9353   4/4/2005  11:00:00     2.4         1163  ...         1269  24.3  23.7  0.7119\n",
            "9354   4/4/2005  12:00:00     2.4         1142  ...         1092  26.9  18.3  0.6406\n",
            "9355   4/4/2005  13:00:00     2.1         1003  ...          770  28.3  13.5  0.5139\n",
            "9356   4/4/2005  14:00:00     2.2         1071  ...          816  28.5  13.1  0.5028\n",
            "\n",
            "[9357 rows x 15 columns], 'headers': Index(['Date', 'Time', 'CO(GT)', 'PT08.S1(CO)', 'NMHC(GT)', 'C6H6(GT)',\n",
            "       'PT08.S2(NMHC)', 'NOx(GT)', 'PT08.S3(NOx)', 'NO2(GT)', 'PT08.S4(NO2)',\n",
            "       'PT08.S5(O3)', 'T', 'RH', 'AH'],\n",
            "      dtype='object')}, 'metadata': {'uci_id': 360, 'name': 'Air Quality', 'repository_url': 'https://archive.ics.uci.edu/dataset/360/air+quality', 'data_url': 'https://archive.ics.uci.edu/static/public/360/data.csv', 'abstract': 'Contains the responses of a gas multisensor device deployed on the field in an Italian city. Hourly responses averages are recorded along with gas concentrations references from a certified analyzer. ', 'area': 'Computer Science', 'tasks': ['Regression'], 'characteristics': ['Multivariate', 'Time-Series'], 'num_instances': 9358, 'num_features': 15, 'feature_types': ['Real'], 'demographics': [], 'target_col': None, 'index_col': None, 'has_missing_values': 'no', 'missing_values_symbol': None, 'year_of_dataset_creation': 2008, 'last_updated': 'Sun Mar 10 2024', 'dataset_doi': '10.24432/C59K5F', 'creators': ['Saverio Vito'], 'intro_paper': {'ID': 420, 'type': 'NATIVE', 'title': 'On field calibration of an electronic nose for benzene estimation in an urban pollution monitoring scenario', 'authors': 'S. D. Vito, E. Massera, M. Piga, L. Martinotto, G. Francia', 'venue': 'Sensors and Actuators B: Chemical', 'year': 2008, 'journal': None, 'DOI': '10.1016/j.snb.2007.09.060', 'URL': 'https://www.semanticscholar.org/paper/a90a54a39ff934772df57771a0012981f355949d', 'sha': None, 'corpus': None, 'arxiv': None, 'mag': None, 'acl': None, 'pmid': None, 'pmcid': None}, 'additional_info': {'summary': 'The dataset contains 9358 instances of hourly averaged responses from an array of 5 metal oxide chemical sensors embedded in an Air Quality Chemical Multisensor Device. The device was located on the field in a significantly polluted area, at road level,within an Italian city. Data were recorded from March 2004 to February 2005 (one year)representing the longest freely available recordings of on field deployed air quality chemical sensor devices responses. Ground Truth hourly averaged concentrations for CO, Non Metanic Hydrocarbons, Benzene, Total Nitrogen Oxides (NOx) and Nitrogen Dioxide (NO2)  and were provided by a co-located reference certified analyzer. Evidences of cross-sensitivities as well as both concept and sensor drifts are present as described in De Vito et al., Sens. And Act. B, Vol. 129,2,2008 (citation required) eventually affecting sensors concentration estimation capabilities. Missing values are tagged with -200 value.\\r\\nThis dataset can be used exclusively for research purposes. Commercial purposes are fully excluded.\\r\\n', 'purpose': None, 'funded_by': None, 'instances_represent': None, 'recommended_data_splits': None, 'sensitive_data': None, 'preprocessing_description': None, 'variable_info': '0 Date\\t(DD/MM/YYYY)\\r\\n1 Time\\t(HH.MM.SS)\\r\\n2 True hourly averaged concentration CO in mg/m^3  (reference analyzer)\\r\\n3 PT08.S1 (tin oxide)  hourly averaged sensor response (nominally  CO targeted)\\t\\r\\n4 True hourly averaged overall Non Metanic HydroCarbons concentration in microg/m^3 (reference analyzer)\\r\\n5 True hourly averaged Benzene concentration  in microg/m^3 (reference analyzer)\\r\\n6 PT08.S2 (titania) hourly averaged sensor response (nominally NMHC targeted)\\t\\r\\n7 True hourly averaged NOx concentration  in ppb (reference analyzer)\\r\\n8 PT08.S3 (tungsten oxide) hourly averaged sensor response (nominally NOx targeted) \\r\\n9 True hourly averaged NO2 concentration in microg/m^3 (reference analyzer)\\t\\r\\n10 PT08.S4 (tungsten oxide) hourly averaged sensor response (nominally NO2 targeted)\\t\\r\\n11 PT08.S5 (indium oxide) hourly averaged sensor response (nominally O3 targeted)\\r\\n12 Temperature in Â°C\\t\\r\\n13 Relative Humidity (%) \\t\\r\\n14 AH Absolute Humidity\\r\\n', 'citation': None}}, 'variables':              name     role  ...       units missing_values\n",
            "0            Date  Feature  ...        None             no\n",
            "1            Time  Feature  ...        None             no\n",
            "2          CO(GT)  Feature  ...      mg/m^3             no\n",
            "3     PT08.S1(CO)  Feature  ...        None             no\n",
            "4        NMHC(GT)  Feature  ...  microg/m^3             no\n",
            "5        C6H6(GT)  Feature  ...  microg/m^3             no\n",
            "6   PT08.S2(NMHC)  Feature  ...        None             no\n",
            "7         NOx(GT)  Feature  ...         ppb             no\n",
            "8    PT08.S3(NOx)  Feature  ...        None             no\n",
            "9         NO2(GT)  Feature  ...  microg/m^3             no\n",
            "10   PT08.S4(NO2)  Feature  ...        None             no\n",
            "11    PT08.S5(O3)  Feature  ...        None             no\n",
            "12              T  Feature  ...          °C             no\n",
            "13             RH  Feature  ...           %             no\n",
            "14             AH  Feature  ...        None             no\n",
            "\n",
            "[15 rows x 7 columns]}\n"
          ]
        }
      ]
    },
    {
      "cell_type": "markdown",
      "source": [
        "b) plot the target data -> NO2(GT)"
      ],
      "metadata": {
        "id": "Fr8NC97y6IGu"
      }
    },
    {
      "cell_type": "code",
      "source": [
        "from matplotlib import pyplot as plt\n",
        "\n",
        "plt.plot(df['NO2(GT)'])\n",
        "plt.show()"
      ],
      "metadata": {
        "colab": {
          "base_uri": "https://localhost:8080/",
          "height": 430
        },
        "id": "AFGmVA3Y6Q3e",
        "outputId": "f07398dd-7fdb-4d8b-c54c-1b2d6cb0c48d"
      },
      "execution_count": 26,
      "outputs": [
        {
          "output_type": "display_data",
          "data": {
            "text/plain": [
              "<Figure size 640x480 with 1 Axes>"
            ],
            "image/png": "[encoded data removed]"
          },
          "metadata": {}
        }
      ]
    },
    {
      "cell_type": "markdown",
      "source": [
        "c) adjust data"
      ],
      "metadata": {
        "id": "cEBP3JKBDBPc"
      }
    },
    {
      "cell_type": "code",
      "source": [
        "target_col = 'NO2(GT)'\n",
        "\n",
        "df = df.dropna()\n",
        "\n",
        "df = df.select_dtypes(include=[np.number])\n",
        "\n",
        "x = df.drop(columns=[target_col])\n",
        "y = df[target_col]"
      ],
      "metadata": {
        "id": "n0Py6RXWDAbi"
      },
      "execution_count": 27,
      "outputs": []
    },
    {
      "cell_type": "markdown",
      "source": [
        "d) Use time series split (5 splits)"
      ],
      "metadata": {
        "id": "CZ_wnaRl6Qcv"
      }
    },
    {
      "cell_type": "code",
      "source": [
        "from sklearn.model_selection import TimeSeriesSplit\n",
        "\n",
        "tss = TimeSeriesSplit(n_splits=5)"
      ],
      "metadata": {
        "id": "803mZfSZ6ZSk"
      },
      "execution_count": 28,
      "outputs": []
    },
    {
      "cell_type": "markdown",
      "source": [
        "e) compare 3 regressions models (linear regression, random forest, naive)"
      ],
      "metadata": {
        "id": "GVz8ERA76WKe"
      }
    },
    {
      "cell_type": "code",
      "source": [
        "from sklearn.linear_model import LinearRegression\n",
        "from sklearn.ensemble import RandomForestClassifier\n",
        "from sklearn.naive_bayes import GaussianNB\n",
        "from sklearn.metrics import mean_absolute_error, mean_squared_error\n",
        "import numpy as np\n",
        "\n",
        "models = {\n",
        "    \"Linear Regression\": LinearRegression(),\n",
        "    \"Random Forest\": RandomForestClassifier(),\n",
        "    \"Naive\": GaussianNB()\n",
        "}\n",
        "\n",
        "for name, model in models.items():\n",
        "\n",
        "    MAE = []\n",
        "    MSE = []\n",
        "\n",
        "    for train_index, test_index in tss.split(x,y):\n",
        "        X_train, X_test = x.iloc[train_index], x.iloc[test_index]\n",
        "        y_train, y_test = y.iloc[train_index], y.iloc[test_index]\n",
        "\n",
        "        model.fit(X_train, y_train)\n",
        "        y_pred = model.predict(X_test)\n",
        "\n",
        "        MAE.append(mean_absolute_error(y_test, y_pred))\n",
        "        MSE.append(mean_squared_error(y_test, y_pred))\n",
        "\n",
        "    # f) check mse and mae\n",
        "    print(f'{name}')\n",
        "    print(f\"MAE: {np.mean(MAE):.4f}\")\n",
        "    print(f\"MSE: {np.mean(MSE):.4f}\")\n",
        "    print()"
      ],
      "metadata": {
        "colab": {
          "base_uri": "https://localhost:8080/"
        },
        "id": "jngsW_X46js9",
        "outputId": "00917dd9-94ef-461d-9116-71eac0a01e95"
      },
      "execution_count": 29,
      "outputs": [
        {
          "output_type": "stream",
          "name": "stdout",
          "text": [
            "Linear Regression\n",
            "MAE: 53.1279\n",
            "MSE: 6324.3170\n",
            "\n",
            "Random Forest\n",
            "MAE: 23.0068\n",
            "MSE: 1979.0958\n",
            "\n",
            "Naive\n",
            "MAE: 32.2466\n",
            "MSE: 3724.1688\n",
            "\n"
          ]
        }
      ]
    }
  ]
}