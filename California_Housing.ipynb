{
  "nbformat": 4,
  "nbformat_minor": 0,
  "metadata": {
    "colab": {
      "provenance": []
    },
    "kernelspec": {
      "name": "python3",
      "display_name": "Python 3"
    },
    "language_info": {
      "name": "python"
    }
  },
  "cells": [
    {
      "cell_type": "markdown",
      "source": [
        "# Solve the California Housing Prices"
      ],
      "metadata": {
        "id": "s-TA6dxTJ4li"
      }
    },
    {
      "cell_type": "code",
      "source": [
        "from sklearn.datasets import fetch_california_housing\n",
        "\n",
        "california_housing = fetch_california_housing(as_frame=True)\n",
        "\n",
        "x = california_housing.data\n",
        "y = california_housing.target\n"
      ],
      "metadata": {
        "id": "Lsx_Z8tOLswe"
      },
      "execution_count": 1,
      "outputs": []
    },
    {
      "cell_type": "markdown",
      "source": [
        "## Use 5-fold cross-validation"
      ],
      "metadata": {
        "id": "JW57sI79KyiO"
      }
    },
    {
      "cell_type": "code",
      "source": [
        "from sklearn.model_selection import KFold\n",
        "\n",
        "kfold = KFold(n_splits=5)"
      ],
      "metadata": {
        "id": "s9oFb2vyMs2t"
      },
      "execution_count": 2,
      "outputs": []
    },
    {
      "cell_type": "markdown",
      "source": [
        "## Compare linear regression and decision tree\n",
        "\n",
        "## Evaluate the MSE and MAE"
      ],
      "metadata": {
        "id": "3LPufeRgK9KP"
      }
    },
    {
      "cell_type": "code",
      "source": [
        "from sklearn.linear_model import LinearRegression\n",
        "from sklearn.tree import DecisionTreeRegressor\n",
        "from sklearn.metrics import mean_absolute_error, mean_squared_error\n",
        "import numpy as np\n",
        "\n",
        "models = {\n",
        "    \"Linear Regression\": LinearRegression(),\n",
        "    \"Decision Tree\": DecisionTreeRegressor()\n",
        "}\n",
        "\n",
        "for name, model in models.items():\n",
        "\n",
        "    MAE = []\n",
        "    MSE = []\n",
        "\n",
        "    for train_index, test_index in kfold.split(x,y):\n",
        "        X_train, X_test = x.iloc[train_index], x.iloc[test_index]\n",
        "        y_train, y_test = y.iloc[train_index], y.iloc[test_index]\n",
        "\n",
        "        model.fit(X_train, y_train)\n",
        "        y_pred = model.predict(X_test)\n",
        "\n",
        "        MAE.append(mean_absolute_error(y_test, y_pred))\n",
        "        MSE.append(mean_squared_error(y_test, y_pred))\n",
        "\n",
        "    print(f'{name}')\n",
        "    print(f\"MAE: {np.mean(MAE):.4f}\")\n",
        "    print(f\"MSE: {np.mean(MSE):.4f}\")\n",
        "    print()"
      ],
      "metadata": {
        "colab": {
          "base_uri": "https://localhost:8080/"
        },
        "id": "f1TbcHxkLDlX",
        "outputId": "70119307-ce6c-494c-e7a0-626b4428de77"
      },
      "execution_count": 7,
      "outputs": [
        {
          "output_type": "stream",
          "name": "stdout",
          "text": [
            "Linear Regression\n",
            "MAE: 0.5475\n",
            "MSE: 0.5583\n",
            "\n",
            "Decision Tree\n",
            "MAE: 0.6238\n",
            "MSE: 0.8239\n",
            "\n"
          ]
        }
      ]
    },
    {
      "cell_type": "markdown",
      "source": [
        "## Compare each model when using and not using power transform"
      ],
      "metadata": {
        "id": "6-s26TdPLEC8"
      }
    },
    {
      "cell_type": "code",
      "source": [
        "from sklearn.preprocessing import PowerTransformer\n",
        "\n",
        "power_transform = PowerTransformer()\n",
        "x_transform = power_transform.fit_transform(x)\n",
        "\n"
      ],
      "metadata": {
        "id": "EpQLLXkKLa1t"
      },
      "execution_count": 8,
      "outputs": []
    },
    {
      "cell_type": "code",
      "source": [
        "models = {\n",
        "    \"Linear Regression\": LinearRegression(),\n",
        "    \"Decision Tree\": DecisionTreeRegressor()\n",
        "}\n",
        "\n",
        "for name, model in models.items():\n",
        "\n",
        "    MAE = []\n",
        "    MSE = []\n",
        "\n",
        "    for train_index, test_index in kfold.split(x_transform, y):\n",
        "        X_train, X_test = x_transform[train_index], x_transform[test_index]\n",
        "        y_train, y_test = y.iloc[train_index], y.iloc[test_index]\n",
        "\n",
        "        model.fit(X_train, y_train)\n",
        "        y_pred = model.predict(X_test)\n",
        "\n",
        "        MAE.append(mean_absolute_error(y_test, y_pred))\n",
        "        MSE.append(mean_squared_error(y_test, y_pred))\n",
        "\n",
        "    print(f'{name}')\n",
        "    print(f\"MAE: {np.mean(MAE):.4f}\")\n",
        "    print(f\"MSE: {np.mean(MSE):.4f}\")\n",
        "    print()"
      ],
      "metadata": {
        "colab": {
          "base_uri": "https://localhost:8080/"
        },
        "id": "NAPpDdLLSmAL",
        "outputId": "a7cb5548-0a37-4953-ed50-ef8957a8b304"
      },
      "execution_count": 11,
      "outputs": [
        {
          "output_type": "stream",
          "name": "stdout",
          "text": [
            "Linear Regression\n",
            "MAE: 0.5957\n",
            "MSE: 0.6105\n",
            "\n",
            "Decision Tree\n",
            "MAE: 0.6258\n",
            "MSE: 0.8082\n",
            "\n"
          ]
        }
      ]
    },
    {
      "cell_type": "markdown",
      "source": [
        "## Compare each model with z-scale and min-max scale"
      ],
      "metadata": {
        "id": "xTzYfdWtLbSA"
      }
    },
    {
      "cell_type": "code",
      "source": [
        "from sklearn.preprocessing import StandardScaler\n",
        "import pandas as pd\n",
        "\n",
        "scaler = StandardScaler()\n",
        "x_scaled = scaler.fit_transform(x)\n",
        "\n",
        "models = {\n",
        "    \"Linear Regression\": LinearRegression(),\n",
        "    \"Decision Tree\": DecisionTreeRegressor()\n",
        "}\n",
        "\n",
        "for name, model in models.items():\n",
        "\n",
        "    MAE = []\n",
        "    MSE = []\n",
        "\n",
        "    for train_index, test_index in kfold.split(x_scaled, y):\n",
        "        X_train, X_test = x_scaled[train_index], x_scaled[test_index]\n",
        "        y_train, y_test = y.iloc[train_index], y.iloc[test_index]\n",
        "\n",
        "        model.fit(X_train, y_train)\n",
        "        y_pred = model.predict(X_test)\n",
        "\n",
        "        MAE.append(mean_absolute_error(y_test, y_pred))\n",
        "        MSE.append(mean_squared_error(y_test, y_pred))\n",
        "\n",
        "    print(f'{name}')\n",
        "    print(f\"MAE: {np.mean(MAE):.4f}\")\n",
        "    print(f\"MSE: {np.mean(MSE):.4f}\")\n",
        "    print()\n"
      ],
      "metadata": {
        "colab": {
          "base_uri": "https://localhost:8080/"
        },
        "id": "fZ8Z2DdoLiEj",
        "outputId": "0fd1ae86-d66b-4b08-e0af-7b6469f3f032"
      },
      "execution_count": 14,
      "outputs": [
        {
          "output_type": "stream",
          "name": "stdout",
          "text": [
            "Linear Regression\n",
            "MAE: 0.5475\n",
            "MSE: 0.5583\n",
            "\n",
            "Decision Tree\n",
            "MAE: 0.6153\n",
            "MSE: 0.7997\n",
            "\n"
          ]
        }
      ]
    },
    {
      "cell_type": "code",
      "source": [
        "from sklearn.preprocessing import MinMaxScaler\n",
        "\n",
        "scaler_minmax = MinMaxScaler()\n",
        "x_scaled_minmax = scaler_minmax.fit_transform(x)\n",
        "\n",
        "models = {\n",
        "    \"Linear Regression\": LinearRegression(),\n",
        "    \"Decision Tree\": DecisionTreeRegressor()\n",
        "}\n",
        "\n",
        "for name, model in models.items():\n",
        "\n",
        "    MAE = []\n",
        "    MSE = []\n",
        "\n",
        "    for train_index, test_index in kfold.split(x_scaled_minmax, y):\n",
        "        X_train, X_test = x_scaled_minmax[train_index], x_scaled_minmax[test_index]\n",
        "        y_train, y_test = y.iloc[train_index], y.iloc[test_index]\n",
        "\n",
        "        model.fit(X_train, y_train)\n",
        "        y_pred = model.predict(X_test)\n",
        "\n",
        "        MAE.append(mean_absolute_error(y_test, y_pred))\n",
        "        MSE.append(mean_squared_error(y_test, y_pred))\n",
        "\n",
        "    print(f'{name}')\n",
        "    print(f\"MAE: {np.mean(MAE):.4f}\")\n",
        "    print(f\"MSE: {np.mean(MSE):.4f}\")\n",
        "    print()"
      ],
      "metadata": {
        "colab": {
          "base_uri": "https://localhost:8080/"
        },
        "id": "hXvK_2IyUKmV",
        "outputId": "0bd7ca42-fc9f-4d01-c48d-12d502637342"
      },
      "execution_count": 16,
      "outputs": [
        {
          "output_type": "stream",
          "name": "stdout",
          "text": [
            "Linear Regression\n",
            "MAE: 0.5475\n",
            "MSE: 0.5583\n",
            "\n",
            "Decision Tree\n",
            "MAE: 0.6254\n",
            "MSE: 0.8296\n",
            "\n"
          ]
        }
      ]
    },
    {
      "cell_type": "markdown",
      "source": [
        "Analysis:\n",
        "\n",
        " - Z-scale preprocessing showed the most stable results\n",
        " - Power transformation slightly degraded model performance\n",
        " - Min-Max scaling did not significantly improve model outcomes"
      ],
      "metadata": {
        "id": "B3YZArkmWNuI"
      }
    }
  ]
}