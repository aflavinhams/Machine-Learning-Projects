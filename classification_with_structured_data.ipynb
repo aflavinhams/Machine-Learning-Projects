{
  "nbformat": 4,
  "nbformat_minor": 0,
  "metadata": {
    "colab": {
      "provenance": []
    },
    "kernelspec": {
      "name": "python3",
      "display_name": "Python 3"
    },
    "language_info": {
      "name": "python"
    }
  },
  "cells": [
    {
      "cell_type": "markdown",
      "source": [
        "#Student: Ana Flávia Martins dos Santos"
      ],
      "metadata": {
        "id": "AL624Ota33Vr"
      }
    },
    {
      "cell_type": "markdown",
      "source": [
        "##a - use the breast cancer classification dataset"
      ],
      "metadata": {
        "id": "9jswi9-btjjc"
      }
    },
    {
      "cell_type": "code",
      "execution_count": null,
      "metadata": {
        "id": "GwtesDzhteB9"
      },
      "outputs": [],
      "source": [
        "from sklearn.datasets import load_breast_cancer\n",
        "from sklearn.model_selection import KFold\n",
        "from sklearn.ensemble import RandomForestClassifier\n",
        "from sklearn.neighbors import KNeighborsClassifier\n",
        "from sklearn.metrics import accuracy_score, recall_score, precision_score\n",
        "from sklearn.linear_model import LogisticRegression\n",
        "import numpy as np\n",
        "\n",
        "x, y = load_breast_cancer(return_X_y=True)"
      ]
    },
    {
      "cell_type": "markdown",
      "source": [
        "##b - use 5-fold cross validation"
      ],
      "metadata": {
        "id": "yThBY3M-tpVs"
      }
    },
    {
      "cell_type": "code",
      "source": [
        "kfold = KFold(n_splits=5)"
      ],
      "metadata": {
        "id": "_05BBXI5tuf4"
      },
      "execution_count": null,
      "outputs": []
    },
    {
      "cell_type": "markdown",
      "source": [
        "##c - train and evaluate 3 different learning algorithms\n",
        "\n",
        "##d - compare metrics for the 3 methods"
      ],
      "metadata": {
        "id": "9ReNKSSftvAx"
      }
    },
    {
      "cell_type": "code",
      "source": [
        "models = {\n",
        "    \"Random Forest\": RandomForestClassifier(),\n",
        "    \"Logistic Regression\": LogisticRegression(max_iter=10000),\n",
        "    \"KNN\": KNeighborsClassifier()\n",
        "}\n",
        "\n",
        "for name, model in models.items():\n",
        "    accuracy = []\n",
        "    recall = []\n",
        "    precision = []\n",
        "\n",
        "    for train_index, test_index in kfold.split(x):\n",
        "        X_train, X_test = x[train_index], x[test_index]\n",
        "        y_train, y_test = y[train_index], y[test_index]\n",
        "\n",
        "        model.fit(X_train, y_train)\n",
        "        y_pred = model.predict(X_test)\n",
        "\n",
        "        accuracy.append(accuracy_score(y_test, y_pred))\n",
        "        recall.append(recall_score(y_test, y_pred))\n",
        "        precision.append(precision_score(y_test, y_pred))\n",
        "\n",
        "    print(f\"{name}:\")\n",
        "    print(f\"Accuracy: {np.mean(accuracy):.4f}\")\n",
        "    print(f\"Recall: {np.mean(recall):.4f}\")\n",
        "    print(f\"Precision: {np.mean(precision):.4f}\\n\")"
      ],
      "metadata": {
        "colab": {
          "base_uri": "https://localhost:8080/"
        },
        "id": "Jc7Fvg6Mt3c_",
        "outputId": "ca1dc254-ff82-44e3-d214-d8375eeac977"
      },
      "execution_count": null,
      "outputs": [
        {
          "output_type": "stream",
          "name": "stdout",
          "text": [
            "Random Forest:\n",
            "Accuracy: 0.9561\n",
            "Recall: 0.9705\n",
            "Precision: 0.9492\n",
            "\n",
            "Logistic Regression:\n",
            "Accuracy: 0.9508\n",
            "Recall: 0.9753\n",
            "Precision: 0.9423\n",
            "\n",
            "KNN:\n",
            "Accuracy: 0.9262\n",
            "Recall: 0.9652\n",
            "Precision: 0.9128\n",
            "\n"
          ]
        }
      ]
    },
    {
      "cell_type": "markdown",
      "source": [
        "##e - report experiment"
      ],
      "metadata": {
        "id": "1LAuio_bt95G"
      }
    },
    {
      "cell_type": "markdown",
      "source": [
        "Analyzing the following 3 accuracy, we can see that Random Forest has the highest accuracy, which indicates that it probably gets more predictions right (positive and negative)\n",
        "\n",
        "Random Forest: 0.956\n",
        "\n",
        "Logistic Regression: 0.950\n",
        "\n",
        "KNN: 0.936\n",
        "\n"
      ],
      "metadata": {
        "id": "mEjF8TLG1cZ5"
      }
    },
    {
      "cell_type": "markdown",
      "source": [
        "Analyzing the following 3 recall, we can see that Logistic Regression has the highest recall, which indicates that it is better predicting positive cases.\n",
        "\n",
        "Random Forest: 0.970\n",
        "\n",
        "Logistic Regression: 0.975\n",
        "\n",
        "KNN: 0.965"
      ],
      "metadata": {
        "id": "gmCTH_uf2qEA"
      }
    },
    {
      "cell_type": "markdown",
      "source": [
        "Analyzing the following 3 precision, we can see that Random Forest has the highest precision, which indicates that it is more reliable predicting positive cases.\n",
        "\n",
        "Random Forest: 0.949\n",
        "\n",
        "Logistic Regression: 0.942\n",
        "\n",
        "KNN: 0.912"
      ],
      "metadata": {
        "id": "TV_MMSls3JVn"
      }
    }
  ]
}
